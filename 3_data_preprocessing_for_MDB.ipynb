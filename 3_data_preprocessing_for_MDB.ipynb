{
 "cells": [
  {
   "cell_type": "markdown",
   "metadata": {},
   "source": [
    "#### Script to convert XXX items to string\n",
    "- 4 collections are created from the following files: external.csv, item_external.csv, Books_5.json, and mongo_items_string.json\n",
    "- external.csv, item_external.csv and mong_items_strings.json were saved from preprocessing notebook\n",
    "- Books_5.json.gz is from the amazon dataset"
   ]
  },
  {
   "cell_type": "code",
   "execution_count": 1,
   "metadata": {
    "executionInfo": {
     "elapsed": 316,
     "status": "ok",
     "timestamp": 1695649635610,
     "user": {
      "displayName": "Joey Brown",
      "userId": "01530074625336929637"
     },
     "user_tz": -480
    },
    "id": "DxiNT3aqapYX"
   },
   "outputs": [],
   "source": [
    "import json\n",
    "jsonfile = \"./mongo_items_string.json\""
   ]
  },
  {
   "cell_type": "code",
   "execution_count": 2,
   "metadata": {},
   "outputs": [],
   "source": [
    "with open(jsonfile, 'r') as f:\n",
    "    json_data = json.load(f)"
   ]
  },
  {
   "cell_type": "code",
   "execution_count": 3,
   "metadata": {},
   "outputs": [],
   "source": [
    "def json_str_to_list(dat_in):\n",
    "    if(type(dat_in) is list):\n",
    "        return dat_in\n",
    "    if dat_in == None:\n",
    "        return []\n",
    "    remove_sq_brkt = dat_in.replace(\"[\",\"\")\n",
    "    remove_sq_brkt2 = remove_sq_brkt.replace(\"]\",\"\")\n",
    "    remove_APOSTROPHE = remove_sq_brkt2.replace(\"'\",\"\")\n",
    "    remove_DOUBLE_APOSTROPHE = remove_APOSTROPHE.replace('\"',\"\")\n",
    "    split_to_list = remove_DOUBLE_APOSTROPHE.split(\", \")\n",
    "    out = [i.strip() for i in split_to_list]\n",
    "    if len(out[0]) == 0 and len(out) == 1:\n",
    "        return [] \n",
    "    return out\n",
    "\n",
    "for idx,data in enumerate(json_data):\n",
    "    author_new = json_str_to_list(data['author']) #convert\n",
    "    data['author'] = author_new #update\n",
    "\n",
    "    cat_new = json_str_to_list(data['category'])\n",
    "    data['category'] = cat_new\n",
    "\n",
    "    also_buy_new = json_str_to_list(data['also_buy'])\n",
    "    data['also_buy'] = also_buy_new\n",
    "\n",
    "    also_view_new = json_str_to_list(data['also_view'])\n",
    "    data['also_view'] = also_view_new\n",
    "\n",
    "    if idx%100000 == 0:\n",
    "        print(\"Progress:\", idx, \"/\", len(json_data))\n",
    "\n",
    "with open(\"mongo_items_array.json\", \"w\") as jsonFile:\n",
    "    json.dump(json_data, jsonFile)"
   ]
  }
 ],
 "metadata": {
  "colab": {
   "authorship_tag": "ABX9TyP8oq0GUc2SGXABnc1Y810+",
   "provenance": []
  },
  "kernelspec": {
   "display_name": "Python 3 (ipykernel)",
   "language": "python",
   "name": "python3"
  },
  "language_info": {
   "codemirror_mode": {
    "name": "ipython",
    "version": 3
   },
   "file_extension": ".py",
   "mimetype": "text/x-python",
   "name": "python",
   "nbconvert_exporter": "python",
   "pygments_lexer": "ipython3",
   "version": "3.7.16"
  }
 },
 "nbformat": 4,
 "nbformat_minor": 1
}
